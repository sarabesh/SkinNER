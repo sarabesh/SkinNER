{
  "cells": [
    {
      "cell_type": "markdown",
      "metadata": {
        "id": "3YQQW7RbY_xA"
      },
      "source": [
        "This notebook is used for extracting dataset from pubmed files and converting them into required format. It also has code to extract from evaluation databases."
      ]
    },
    {
      "cell_type": "code",
      "execution_count": 1,
      "metadata": {
        "colab": {
          "base_uri": "https://localhost:8080/"
        },
        "id": "i7lStBDB7Buj",
        "outputId": "08d826cf-a015-44e8-c775-1f0d30504a10"
      },
      "outputs": [
        {
          "name": "stdout",
          "output_type": "stream",
          "text": [
            "Mounted at /content/drive\n"
          ]
        }
      ],
      "source": [
        "from google.colab import drive\n",
        "drive.mount('/content/drive')"
      ]
    },
    {
      "cell_type": "code",
      "execution_count": null,
      "metadata": {
        "colab": {
          "base_uri": "https://localhost:8080/"
        },
        "id": "2cfKjeAMNQBN",
        "outputId": "631651ee-9439-4302-d1b2-63a70cad06d0"
      },
      "outputs": [
        {
          "name": "stdout",
          "output_type": "stream",
          "text": [
            "Requirement already satisfied: biopython in /usr/local/lib/python3.10/dist-packages (1.83)\n",
            "Requirement already satisfied: numpy in /usr/local/lib/python3.10/dist-packages (from biopython) (1.25.2)\n"
          ]
        }
      ],
      "source": [
        "!pip install biopython"
      ]
    },
    {
      "cell_type": "markdown",
      "metadata": {
        "id": "AlBhr6ayZQDi"
      },
      "source": [
        "We are using biopython python package, which supports Entrez API. The entrez API can query pubmed data."
      ]
    },
    {
      "cell_type": "code",
      "execution_count": null,
      "metadata": {
        "id": "T6S0d3ygNKBd"
      },
      "outputs": [],
      "source": [
        "from Bio import Entrez\n",
        "\n",
        "def search(query):\n",
        "    Entrez.email = 'your.email@example.com'\n",
        "    handle = Entrez.esearch(db='pubmed',\n",
        "                            sort='relevance',\n",
        "                            retmax='10000',\n",
        "                            retmode='xml',\n",
        "                            term=query)\n",
        "    results = Entrez.read(handle)\n",
        "    return results\n",
        "\n",
        "def fetch_details(id_list):\n",
        "    ids = ','.join(id_list)\n",
        "    Entrez.email = 'your.email@example.com'\n",
        "    handle = Entrez.efetch(db='pubmed',\n",
        "                           retmode='xml',\n",
        "                           id=ids)\n",
        "    results = Entrez.read(handle)\n",
        "    return results\n",
        "\n",
        "def get_abstract(paper):\n",
        "    abstract = ''\n",
        "    if 'Abstract' in paper['MedlineCitation']['Article']:\n",
        "        abstract = paper['MedlineCitation']['Article']['Abstract']['AbstractText']\n",
        "        if isinstance(abstract, list):\n",
        "            abstract = ' '.join(abstract)\n",
        "    return abstract"
      ]
    },
    {
      "cell_type": "code",
      "execution_count": null,
      "metadata": {
        "id": "h1mIlwJ5QeE_"
      },
      "outputs": [],
      "source": [
        "\n",
        "def findDataForTerm(searchTerm):\n",
        "  text = \"\"\n",
        "  results = search(searchTerm)\n",
        "  id_list = results['IdList']\n",
        "  papers = fetch_details(id_list)\n",
        "  print(\"found \")\n",
        "  print(len(papers['PubmedArticle']))\n",
        "  print(\"occurences...\")\n",
        "  for i, paper in enumerate(papers['PubmedArticle']):\n",
        "\n",
        "          abstract = get_abstract(paper)\n",
        "          text+=abstract\n",
        "\n",
        "  return text"
      ]
    },
    {
      "cell_type": "code",
      "execution_count": null,
      "metadata": {
        "id": "mvEHUmXQgrpB"
      },
      "outputs": [],
      "source": [
        "def split_list(lst, chunk_size=50):\n",
        "    \"\"\"Split a list into sublists of specified chunk size.\"\"\"\n",
        "    for i in range(0, len(lst), chunk_size):\n",
        "        yield lst[i:i + chunk_size]\n"
      ]
    },
    {
      "cell_type": "code",
      "execution_count": null,
      "metadata": {
        "colab": {
          "background_save": true
        },
        "id": "d9DTBRDMxsuB"
      },
      "outputs": [],
      "source": [
        "import spacy\n",
        "import time\n",
        "\n",
        "nlp = spacy.load(\"en_core_web_sm\")\n",
        "nlp.max_length = 25000000\n",
        "\n",
        "def create_dataset(text, words_to_search, entity_label):\n",
        "    text = text.replace('\\n', ' ')\n",
        "    doc = nlp(text)\n",
        "    dataset = []\n",
        "    for sent in doc.sents:\n",
        "        sentence_text = sent.text.strip()\n",
        "        if sentence_text:\n",
        "\n",
        "            for word in words_to_search:\n",
        "                if word.lower() in sentence_text.lower():\n",
        "                    start_pos = sentence_text.lower().find(word.lower())\n",
        "                    end_pos = start_pos + len(word)\n",
        "                    dataset.append((sentence_text, {'entities': [(start_pos, end_pos+1, entity_label)]}))\n",
        "                    break\n",
        "\n",
        "    return dataset\n",
        "\n",
        "def read_text_from_file(file_path):\n",
        "    with open(file_path, 'r') as file:\n",
        "        return file.read()\n",
        "\n",
        "file_path = \"input_text.dat\"\n",
        "text = read_text_from_file(\"/content/abstract-38653920-set.txt\")\n",
        "\n",
        "\n",
        "words_to_search = ['Acanthosis nigricans', 'Acne keloidalis nuchae','Acne scars','Actinic keratosis','Alopecia areata', \"Athlete's foot\", 'Atopic dermatitis', 'Basal cell carcinoma', 'Bedbugs', 'Birthmarks', 'Boils and styes', 'Botulinum toxin', 'Bullous pemphigoid', 'Cellulitis', 'Central centrifugal cicatricial alopecia', 'CCCA', 'Chemical peels', 'Chickenpox', 'Cold sores', 'Contact dermatitis', 'Cradle cap', 'Cutaneous T-cell lymphoma', 'Dandruff', 'Dermatofibrosarcoma protuberan', 'DFSP', 'Diaper rash', 'Dry skin', 'Dyshidrotic eczema', 'Eczema', 'Epidermolysis bullosa', 'Female pattern hair loss', 'Folliculitis', 'Frontal fibrosing alopecia', 'Genital herpes', 'Genital warts', 'Granuloma annulare', 'Hair loss', 'Hand-foot-and-mouth disease', 'Head lice', 'Herpes simplex', 'Hidradenitis suppurativa', 'Hives', 'Hyperhidrosis', 'Ichthyosis vulgaris', 'Imiquimod', 'Impetigo', 'Isotretinoin', 'JAK Inhibitors', 'Keloid scars', 'Keratosis pilaris', 'Lasers', 'Leprosy', 'Lichen planus', 'Lupus', 'Lyme disease', 'Melanoma', 'Melasma', 'Merkel cell carcinoma', 'Moles', 'Molluscum contagiosum', 'Monkeypox rash', 'Nail fungus', 'Neurodermatitis', 'Nickel allergy', 'Nummular dermatitis', 'Pemphigus', 'Perioral dermatitis', 'Pityriasis rosea', 'Prurigo nodularis', 'Psoriasis', 'Psoriatic arthritis', 'Rashes', 'Ringworm', 'Rosacea', 'Sarcoidosis', 'Scabies', 'Scalp psoriasis', 'Scars', 'Scleroderma', 'Sebaceous carcinoma', 'Seborrheic dermatitis', 'Seborrheic keratoses', 'Shingles', 'Skin biopsy', 'Skin cancer', 'Skin tags', 'Squamous cell carcinoma', 'Stasis dermatitis', 'Stretch marks', 'Syphilis', 'Tinea versicolor', 'Vitiligo', 'Warts', 'Xeroderma pigmentosum']\n",
        "dataset=[]\n",
        "for word in words_to_search:\n",
        "  texts_list = []\n",
        "  print(\"searching for\")\n",
        "  print(word)\n",
        "  print(\"................\")\n",
        "  text = findDataForTerm(word)\n",
        "  print(\"found lines:\")\n",
        "  print(len(text))\n",
        "  if(len(text)>2500000):\n",
        "      texts_list = split_list(text,2500000)\n",
        "  for chunck in texts_list:\n",
        "    new_entities = create_dataset(text,[word],\"Skin disease\")\n",
        "    print(\"found entities\")\n",
        "    print(len(new_entities))\n",
        "    dataset+=new_entities\n",
        "    time.sleep(10)\n",
        "\n",
        "print(len(dataset))\n",
        "\n"
      ]
    },
    {
      "cell_type": "code",
      "execution_count": null,
      "metadata": {
        "colab": {
          "base_uri": "https://localhost:8080/"
        },
        "id": "JIv9Bx57Y_XF",
        "outputId": "832df855-b473-4041-e5c6-1db43076cb5b"
      },
      "outputs": [
        {
          "data": {
            "text/plain": [
              "[('Our results demonstrated that sleep quality correlates with the postoperative effectiveness of ultrapulse fractional CO<sub>2</sub> laser in the treatment of atrophic acne scars.',\n",
              "  {'entities': [(167, 178, 'Skin disease')]}),\n",
              " ('In search of a biocompatible implant for the correction of small deficiencies within the dermal corium as in wrinkles and acne scars, polymethylmethacrylate (PMMA) microspheres, 10 to 63 microns in diameter, were dispersed in Tween 80 medium and injected intradermally and subdermally into the abdominal skin of rats.',\n",
              "  {'entities': [(122, 133, 'Skin disease')]}),\n",
              " ('Because PMMA products (Paladon, Palacos) have been used in medicine for almost 50 years without causing biological degradation or cancer, the material may be applied safely in the form of microspheres (Arteplast) in corium and subcutis of human patients with wrinkles or acne scars.',\n",
              "  {'entities': [(271, 282, 'Skin disease')]}),\n",
              " ('However, the disorder might be underestimated probably because of its subtlety, asymptomatic course, and benign nature of clinical alterations, which can easily be confused with other dermatoses such as acne scars.',\n",
              "  {'entities': [(203, 214, 'Skin disease')]}),\n",
              " ('Clinical and histopathological differential diagnosis of PE is broad and includes papular acne scars, eruptive collagenoma, disseminated lenticular dermatofibrosis (as a component of Buschke-Ollendorff syndrome), white fibrous papulosis of the neck, pseudoxanthoma elasticum, pseudoxanthoma elasticum-like papillary dermal elastolysis, middermal elastolysis, and perifollicular elastolysis.',\n",
              "  {'entities': [(90, 101, 'Skin disease')]}),\n",
              " ('Their tolerable safety profile on nonfacial sites and darker Fitzpatrick skin types provides an advantage over its fully ablative counterpart in treating facial rhytides, photodamaged skin, and acne scars.',\n",
              "  {'entities': [(194, 205, 'Skin disease')]}),\n",
              " ('It differentiates between noninflammatory acne, papules, pustules, nodules, and provides detailed delineation for cysts and post-acne scars.',\n",
              "  {'entities': [(129, 140, 'Skin disease')]}),\n",
              " ('The authors review their experience using Artecoll as an injectable material for the correction of deep static folds of the face, improvement of nasal asymmetries following rhinoplasty, depressed acne scars and augmentation of the lip.',\n",
              "  {'entities': [(196, 207, 'Skin disease')]}),\n",
              " ('A total of 153 patients were treated with Artecoll injections; 74 underwent lip augmentation, 21 underwent deep nasolabial fold augmentation, eight underwent glabellar fold augmentation, 26 were treated for minor nasal dorsal irregularities and 24 were treated for depressed acne scars.',\n",
              "  {'entities': [(275, 286, 'Skin disease')]}),\n",
              " (\"Based on the authors' experience, Artecoll is a safe, viable option for long-term treatment of deep facial wrinkles, nasal asymmetry, hypoplastic or atrophic lips, and depressed acne scars, and the results have been accompanied by a high degree of patient satisfaction.\",\n",
              "  {'entities': [(178, 189, 'Skin disease')]}),\n",
              " ('In expert hands, ablative laser resurfacing has a long history of excellent results in the treatment of photodamage-induced rhytids, depressed acne scars, and other signs of cutaneous aging.',\n",
              "  {'entities': [(143, 154, 'Skin disease')]}),\n",
              " ('The third group (Examined Group 2 or EG2) treated 25 patients with combined therapy of CO2 laser and PRP in the treatment of facial rejuvenation or treatment of acne scars.',\n",
              "  {'entities': [(161, 172, 'Skin disease')]}),\n",
              " ('These resurfacing lasers is appropriate for those patients with acne scars, uneven skin tone, mild to moderate photodamage, and is somewhat effective for melasma.',\n",
              "  {'entities': [(64, 75, 'Skin disease')]}),\n",
              " ('Surgical treatment is the method of choice in the treatment of severe AI.Chemical peel treatments, which utilize a number of chemical peeling solutions subject to patient indication, are an easy to learn therapeutic technique suited for, in particular, various types of acne, acne scars, actinic keratosis and \"sun-damaged skin\".',\n",
              "  {'entities': [(276, 287, 'Skin disease')]}),\n",
              " ('Procedural treatment can be useful as it can also help in the treatment of associated acne scars and concomitant skin aging.',\n",
              "  {'entities': [(86, 97, 'Skin disease')]}),\n",
              " ('A second course of minocycline 100 mg/day was prescribed; after a total dose of 3 g all the acne scars had become pigmented.',\n",
              "  {'entities': [(92, 103, 'Skin disease')]}),\n",
              " ('Furthermore, FMR has shown to be effective in acne scars, acne lesions, hyperhidrosis, acne-related postinflammatory erythema and recently in rosacea.',\n",
              "  {'entities': [(46, 57, 'Skin disease')]}),\n",
              " ('Nine adult patients were treated for wrinkles and acne scars using this new laser technology.',\n",
              "  {'entities': [(50, 61, 'Skin disease')]}),\n",
              " ('This novel combined system produced improvement in wrinkles and acne scars, with progressive enhancement of skin tone and elasticity.',\n",
              "  {'entities': [(64, 75, 'Skin disease')]}),\n",
              " ('This review talks about various studies of glycolic acid peels for various indications, such as acne, acne scars, melasma, postinflammatory hyperpigmentation, photoaging, and seborrhea.',\n",
              "  {'entities': [(102, 113, 'Skin disease')]}),\n",
              " ('Platelet-rich plasma (PRP) has become a popular and trendy treatment in dermatology for various skin ailments, most notably for acne scars, traumatic scars, hair regrowth, and cutaneous rejuvenation.',\n",
              "  {'entities': [(128, 139, 'Skin disease')]}),\n",
              " ('In addition, the same technique has proven to be very effective in minimizing acne scars and burn scars by removing scar collagen and replacing it with normal collagen.',\n",
              "  {'entities': [(78, 89, 'Skin disease')]}),\n",
              " ('The treatment of acne scars and wrinkles with a picosecond Alexandrite laser was recently FDA cleared.',\n",
              "  {'entities': [(17, 28, 'Skin disease')]}),\n",
              " ('It appears that treatments with this device and optic result in improvements in dyspigmentation and acne scars with new collagen, elastic tissue, and mucin.',\n",
              "  {'entities': [(100, 111, 'Skin disease')]}),\n",
              " ('Level 2 evidence was found for their use in acne scars, melasma, and surgical/traumatic scars.',\n",
              "  {'entities': [(44, 55, 'Skin disease')]}),\n",
              " ('This article will prepare the cosmetic surgeon to include the latest agents in his practice and correctly choose which treatment is best for patients with individual problems of photoaging of the face and body, acne scars, and pigmentary problems.',\n",
              "  {'entities': [(211, 222, 'Skin disease')]}),\n",
              " (\"AcneDet includes two models for two tasks: (1) a Faster R-CNN-based deep learning model for the detection of acne lesion objects of four types, including blackheads/whiteheads, papules/pustules, nodules/cysts, and acne scars; and (2) a LightGBM machine learning model for grading acne severity using the Investigator's Global Assessment (IGA) scale.\",\n",
              "  {'entities': [(214, 225, 'Skin disease')]}),\n",
              " ('The peeling procedure is a valuable method for the aged skin, photo aging, acne scars and melasma.',\n",
              "  {'entities': [(75, 86, 'Skin disease')]}),\n",
              " ('Patients showed hypermobile joints (35 cases), minimal atrophic wrinkled scars (35 cases), and a few ice-pick acne scars.',\n",
              "  {'entities': [(110, 121, 'Skin disease')]}),\n",
              " ('Fractional resurfacing has been successfully used in treating a variety of skin conditions including melasma, dyschromia, lentigenes, wrinkles, and acne scars with minimal downtime.',\n",
              "  {'entities': [(148, 159, 'Skin disease')]}),\n",
              " ('Clinical studies of the multisource fractional RF application have shown significant effects on wrinkles reduction and deep atrophic acne scars after 1-3 treatment sessions.',\n",
              "  {'entities': [(133, 144, 'Skin disease')]}),\n",
              " ('The clinical differential diagnosis includes papular acne scars, dermatofibrosis lenticularis disseminata (Buschke-Ollendorff syndrome), cutaneous collagenoma and nevus anelasticus, but histology clearly separates papular elastorrhexis from the other entities.',\n",
              "  {'entities': [(53, 64, 'Skin disease')]}),\n",
              " ('On the basis of level 1 evidence currently available, it appears that PRP can improve the quality of atrophic acne scars treated with ablative fractional CO2 laser and decrease the duration of laser-related side effects including oedema and erythema.',\n",
              "  {'entities': [(110, 121, 'Skin disease')]}),\n",
              " ('These patients have a typical \"pugilistic\" face, incomplete oral cleft, absent upper incisors, mental retardation, spasticity, seizures, and acne scars.',\n",
              "  {'entities': [(141, 152, 'Skin disease')]}),\n",
              " ('Ablative skin resurfacing using the carbon dioxide laser was long considered the gold standard for treatment of photoaging, acne scars, and rhytids.',\n",
              "  {'entities': [(124, 135, 'Skin disease')]}),\n",
              " ('The effect of MTS on hair growth and skin improvement has been confirmed, and it has been proven to have significant effects on the treatment of acne, acne scars, and hair loss in clinical practice.',\n",
              "  {'entities': [(151, 162, 'Skin disease')]}),\n",
              " ('Pyruvic acid (CH3-CO-COOH), an alpha-keto-acid, has been recently used as a medium chemical peeling agent in subjects with inflammatory acne, moderate acne scars, greasy skin, actinic keratosis, and warts.',\n",
              "  {'entities': [(151, 162, 'Skin disease')]}),\n",
              " ('We expect this method to be effective for people with acne scars, pore scars, deep wrinkles, and uneven skin texture and color.',\n",
              "  {'entities': [(54, 65, 'Skin disease')]}),\n",
              " ('The severity scores of post-acne scars decreased from 7.6\\xa0±\\xa01.32 to 4.2\\xa0±\\xa02.13.',\n",
              "  {'entities': [(28, 39, 'Skin disease')]}),\n",
              " (\"This paper explores the impact of osteopathic medicine's principles and philosophy on dermatology conditions, focusing specifically on atopic dermatitis (AD), bullous pemphigoid (BP), and acne scars.\",\n",
              "  {'entities': [(188, 199, 'Skin disease')]}),\n",
              " ('Micro-needling is a promising treatment for atrophic acne scars, reducing scar severity scores by up to 68.3%.',\n",
              "  {'entities': [(53, 64, 'Skin disease')]}),\n",
              " ('Carbon dioxide (CO2) laser resurfacing has become increasingly popular as a method of facial rejuvenation, enabling the surgeon to repair sun-damaged skin, wrinkles, and acne scars precisely.',\n",
              "  {'entities': [(170, 181, 'Skin disease')]}),\n",
              " ('The main clinical indications in the cosmetic field are photoaging, dyschromias, and acne scars, which are classified according to the histologic depth of the clinical changes.',\n",
              "  {'entities': [(85, 96, 'Skin disease')]}),\n",
              " ('Laser resurfacing with the short-pulsed, high-energy CO2 laser has been used to treat photodamaged skin and acne scars.',\n",
              "  {'entities': [(108, 119, 'Skin disease')]}),\n",
              " ('Forty-six of 61 (75.4%) patients with acne scars also obtained very good to excellent results.',\n",
              "  {'entities': [(38, 49, 'Skin disease')]}),\n",
              " (\"In this open-label, single-arm phase IIa clinical trial, a total of 57 participants with wrinkles (n=37, 132 treatment sites) or acne scars (n=20, 36 treatment sites) who had an evaluator's assessment score of at least 2 out 7 (based on a standard photo-guide scoring) received 3 injections of autologous cultured fibroblasts administered at 4-6 week intervals.\",\n",
              "  {'entities': [(129, 140, 'Skin disease')]}),\n",
              " ('Differential diagnosis includes papular elastorrhexis, fibroelastolytic papules of the neck, papular acne scars, and late onset focal dermal elastosis.',\n",
              "  {'entities': [(101, 112, 'Skin disease')]}),\n",
              " ('Actinic porokeratosis, discoid lupus erythematosus, pityriasis versicolor, and acne scars were considered as possible diagnoses, but none of these appeared appropriate.',\n",
              "  {'entities': [(79, 90, 'Skin disease')]}),\n",
              " ('Food and Drug Administration approved indications of hyaluronic acid fillers include some facial wrinkles or skin folds like naso-labial folds, perioral wrinkles, volumization of lip, cheek, chin, and dorsal region of the hands, also acne scars and lipoatrophy of human immunodeficiency virus positive patients.',\n",
              "  {'entities': [(234, 245, 'Skin disease')]}),\n",
              " ('The use of PRP as monotherapy for skin rejuvenation, acne scars, periorbital rejuvenation, lipofilling and in combination with fractional CO<sub>2</sub> and other resurfacing modalities is increasing rapidly.',\n",
              "  {'entities': [(53, 64, 'Skin disease')]}),\n",
              " ('Indications include human immunodeficiency virus lipoatrophy and nasolabial folds for CaHA and PLLA and atrophic acne scars for PMMA.',\n",
              "  {'entities': [(113, 124, 'Skin disease')]}),\n",
              " ('It has been found to be effective as a peeling procedure for moderately photoaging skin, actinic keratoses, and superficial acne scars.',\n",
              "  {'entities': [(124, 135, 'Skin disease')]}),\n",
              " ('It is capable of improving wrinkles, acne scars, and other types of atrophic scars and benign pigmented lesions associated with elastotic, sun-damaged skin.',\n",
              "  {'entities': [(37, 48, 'Skin disease')]}),\n",
              " ('Such radiopacities in the mandibular molar-ramus region include sialolith, phlebolith, cysticercosis and calcified lymph node, carotid artery arteriosclerosis, stylohyoid ligament mineralization, and dystrophic calcification in acne scars.',\n",
              "  {'entities': [(228, 239, 'Skin disease')]}),\n",
              " ('The versatility of fat grafts allows for their use in all types of facial enhancement-improving the appearance of nasolabial folds, mesolabial grooves, flattened cheeks and upper lips, glabellar furrows, lipoatrophy, acne scars, and temporal hollowing.',\n",
              "  {'entities': [(217, 228, 'Skin disease')]}),\n",
              " ('In the field of laser treatment, fractionated photothermolysis has motivated much more research and seem particularly valuable in treating acne scars, aging of the dorsal aspect of the hands, and, more anecdotally, in colloid milium and pearly penile papules.',\n",
              "  {'entities': [(139, 150, 'Skin disease')]}),\n",
              " ('Recently, picosecond lasers have been shown to be effective in the treatment of various skin conditions such as acne scars and large pores.',\n",
              "  {'entities': [(112, 123, 'Skin disease')]}),\n",
              " ('Thirty-six volunteer patients were treated for facial rhytides and acne scars.',\n",
              "  {'entities': [(67, 78, 'Skin disease')]}),\n",
              " ('Through their selective targeting of skin chromophores they have become the preferred treatment for many skin conditions, including vascular malformations, photorejuvenation and acne scars.',\n",
              "  {'entities': [(178, 189, 'Skin disease')]}),\n",
              " ('Fibrel is a medical implant device that has demonstrated use in the correction of cutaneous depressions from acne scars and wrinkles.',\n",
              "  {'entities': [(109, 120, 'Skin disease')]}),\n",
              " ('A novel 755 nm alexandrite picosecond laser has demonstrated effectiveness for tattoo removal and treatment of acne scars.',\n",
              "  {'entities': [(111, 122, 'Skin disease')]}),\n",
              " (\"Although facial lesions in skin diseases such as acne, acne scars, rosacea, and melasma seem to have negative effect on individuals' self-consciousness, patients who would be submitted to chemical peeling in order to treat wrinkles, loss of radiance, and skin tone clarity have even lower self-esteem.\",\n",
              "  {'entities': [(55, 66, 'Skin disease')]}),\n",
              " ('A large number of laser systems with advances in technologies have expanded applications of lasers for conditions like birth marks, acne scars, wrinkles, pigmentation, etc.',\n",
              "  {'entities': [(132, 143, 'Skin disease')]}),\n",
              " ('In addition to its efficacy in ablating benign raised lesions, the CO2 laser has been reported to be effective in the field of esthetic dermatology in the revision of acne scars as well as in photorejuvenation.',\n",
              "  {'entities': [(167, 178, 'Skin disease')]}),\n",
              " ('Diverse facial regions can be injected in order to ameliorate or enhance some features: glabellar lines, subdermal support of the brows, malar and buccal fat pads, tear troughs, nasolabial folds, nose, lips, perioral region, marionette lines, oral commisures and chin among others, as well as saucerized acne scars.',\n",
              "  {'entities': [(304, 315, 'Skin disease')]}),\n",
              " ('Fractional photothermolysis, a novel concept in skin rejuvenation, has been reported to be effective in the treatment of facial rhytides, acne scars, and surgical scars, but its use in the treatment of striae has not been well studied.',\n",
              "  {'entities': [(138, 149, 'Skin disease')]}),\n",
              " ('The main indications for this procedure include photoaging, perioral wrinkling, acne scars, and precancerous skin lesions.',\n",
              "  {'entities': [(80, 91, 'Skin disease')]}),\n",
              " ('To assess the efficacy and safety of CAP as a pretreatment to improve the transdermal absorption of topical anesthetic cream before the CO<sub>2</sub> laser treatment for postacne scars in the human body.',\n",
              "  {'entities': [(175, 186, 'Skin disease')]}),\n",
              " ('Twenty patients, seeking full facial laser treatment for atrophic acne scars, underwent a randomized split-face study.',\n",
              "  {'entities': [(66, 77, 'Skin disease')]}),\n",
              " ('After that, the subjects went through full-face fractional CO<sub>2</sub> laser treatment of postacne scars.',\n",
              "  {'entities': [(97, 108, 'Skin disease')]}),\n",
              " ('Platelet-rich plasma (PRP) is a novel modality often used to treat acne scars, androgenic alopecia, chronic wounds, and skin rejuvenation.',\n",
              "  {'entities': [(67, 78, 'Skin disease')]}),\n",
              " ('While injectable PLLA has been used successfully for rejuvenation of most facial areas, increasing experience suggests that it is a versatile agent capable of providing aesthetic enhancement in multiple areas of the body, including the dorsum of the hands, the décolleté, the neck, the buttocks, the medial ankles, and acne scars.',\n",
              "  {'entities': [(319, 330, 'Skin disease')]}),\n",
              " ('Differential diagnosis of papular elastorrhexis includes Buschke-Ollendorff syndrome, eruptive collagenoma and elastic tissue disorders: macular anetoderma, mid-dermal elastolysis, nevus anelasticus, acne scars and pseudoxanthoma elasticum.',\n",
              "  {'entities': [(200, 211, 'Skin disease')]}),\n",
              " ('Polymethylmethacrylate (PMMA)-collagen gel is approved for the correction of nasolabial folds and severe atrophic, distensible facial acne scars on the cheek.',\n",
              "  {'entities': [(134, 145, 'Skin disease')]}),\n",
              " ('This method is established for skin rejuvenation and acne scars; both the original non-ablative devices and newer ablative ones are available.',\n",
              "  {'entities': [(53, 64, 'Skin disease')]}),\n",
              " ('Injection of autologous adipose tissue removed via liposuction has been used clinically for facial contouring, the aging face, furrows, facial atrophy, acne scars, nasolabial folds, chin, and various other surgical defects.',\n",
              "  {'entities': [(152, 163, 'Skin disease')]}),\n",
              " ('These include freckles, melasma, senile lentigo, pigmented acne scars, and cancer.',\n",
              "  {'entities': [(59, 70, 'Skin disease')]}),\n",
              " ('Melanin uncontrollable accumulation is a serious social problem to not only women, but also men, and causes pigment over-expression disorders such as freckles, melasma or pigmented acne scars.',\n",
              "  {'entities': [(181, 192, 'Skin disease')]}),\n",
              " ('Most patients were treated for deep nasolabial folds, while the volume-depleted midface region, superficial rhytids, and acne scars were other commonly treated areas.',\n",
              "  {'entities': [(121, 132, 'Skin disease')]}),\n",
              " ('Ultrapulse-mode (UPCO2) and superpulse-mode (SPCO2) fractional carbon dioxide lasers have been widely used to treat photo-aged skin, acne scars, and other skin conditions.',\n",
              "  {'entities': [(133, 144, 'Skin disease')]}),\n",
              " ('For surface treatment, especially of creases and acne scars, various types of laser treatment are employed.',\n",
              "  {'entities': [(49, 60, 'Skin disease')]}),\n",
              " ('In practice, PMMA-collagen gel is well suited for treatment of acne scars, as well as injection into the supraperiosteal plane in the temple, chin, mandible, and piriform by a retrograde linear threading technique.',\n",
              "  {'entities': [(63, 74, 'Skin disease')]}),\n",
              " ('PSR also has beneficial effects in the treatment of other conditions including dyschromias, photoaging, skin laxity, and acne scars.',\n",
              "  {'entities': [(121, 132, 'Skin disease')]}),\n",
              " ('This comes as a response to the continuous demand for a simple method of treating rhytides, UV exposure, and acne scars.',\n",
              "  {'entities': [(109, 120, 'Skin disease')]}),\n",
              " ('Laser resurfacing is now widely used for the treatment of facial wrinkles, photoaging and acne scars and is usually combined with comparatively aggressive methods of cleaning detritus off the treated area after each laser pass.',\n",
              "  {'entities': [(90, 101, 'Skin disease')]}),\n",
              " ('The global aesthetic improvement scale, Facial Laxity Rating scale of the whole face, ECCA grading scale of acne scars, and VISIA parameters on both treated sides were evaluated.',\n",
              "  {'entities': [(108, 119, 'Skin disease')]}),\n",
              " ('In general, 158 (79%) prescribe growth factors Post-procedures, while 29 (14.5), 24 (12%), and 22 (11%) prescribe them for under-eye dark circles, acne scars, and aging skin, respectively.',\n",
              "  {'entities': [(147, 158, 'Skin disease')]}),\n",
              " ('The primary areas treated were lips, nasolabial folds, glabellar rhytids, marionette lines, prejowl depressions, acne scars, and surgical soft tissue defects.',\n",
              "  {'entities': [(113, 124, 'Skin disease')]}),\n",
              " ('The Fractional Ultrapulsed CO2 laser has been successfully used in treating fine wrinkles, acne scars, and photoaged skin.',\n",
              "  {'entities': [(91, 102, 'Skin disease')]}),\n",
              " ('Injecting liquid silicone by the microdroplet technique is the most important preventive measure that one can use to avoid the adverse sequelae of silicone migration and granuloma formation, especially when injecting silicone to improve small facial defects resulting from acne scars, surgical procedures, or photoaging.',\n",
              "  {'entities': [(273, 284, 'Skin disease')]}),\n",
              " ('Indeed, it has wide applicability; it can be used to treat fine lines, wrinkles, acne scars, sun-damaged skin, scar repair, and as an alopecia treatment.',\n",
              "  {'entities': [(81, 92, 'Skin disease')]}),\n",
              " ('Currently, they are used for facial rejuvenation both in combination with microneedling and in mesotherapy techniques, as well as to treat facial acne scars, melasma and wounds after laser ablative treatments.',\n",
              "  {'entities': [(146, 157, 'Skin disease')]}),\n",
              " ('Using two different meters, the sound levels of lasers commonly used in cosmetic surgery were recorded during various procedures for several indications: tattoo removal, treatment of lentigines and pigmented lesions, facial erythema and vascular lesions, hair removal and resurfacing of acne scars, and photoaging.',\n",
              "  {'entities': [(287, 298, 'Skin disease')]}),\n",
              " ('Fractional photothermolysis (FP) lasers have been widely used in treating photo-aged skin, acne scars, and other skin conditions.',\n",
              "  {'entities': [(91, 102, 'Skin disease')]}),\n",
              " ('Ablative skin resurfacing with carbon dioxide (CO(2)) and erbium:YAG lasers is still considered the gold standard for treating rhytides, photodamage, and acne scars.',\n",
              "  {'entities': [(154, 165, 'Skin disease')]}),\n",
              " ('2. Sports medicine - IGF-1, IGF-2, TGF-β, VEGF, PDGF and bFGF, EGF); 3. dermatology and cosmetology (treatment of alopecia, hair reconstruction - FGF-7, HGF, acne scars, skin rejuvenation and regeneration, treatment of chronic and poorly healing wounds, burns, and acquired vitiligo); 4. Gynecology and reproductive medicine (treatment of infertility, erectile dysfunction - PDGF-β, TGF-β, IGF-1, in sexual dysfunction - PDGF, in vaginal atrophy); 5 Ophthalmology (in the healing of corneal epithelial wounds, in the treatment of dormant corneal ulcers, dry eye syndrome and the reconstruction of the corneal surface; 6.',\n",
              "  {'entities': [(158, 169, 'Skin disease')]}),\n",
              " ('These FMR devices have been shown to be effective for the treatment of wrinkles, acne scars and large pores.',\n",
              "  {'entities': [(81, 92, 'Skin disease')]}),\n",
              " ('The treatments included resurfacing of the full face, periocular upper lip, and residual acne scars.',\n",
              "  {'entities': [(89, 100, 'Skin disease')]}),\n",
              " ('Artecoll was implanted into different facial sites, including the philtrum, acne scars, corners of the mouth, upper and lower lips, melolabial folds (also known as nasolabial folds), and other facial creases to attain permanent soft-tissue augmentation.',\n",
              "  {'entities': [(76, 87, 'Skin disease')]}),\n",
              " ('Recently, the novel picosecond laser with pulse durations operating at sub-nanosecond domains has been shown to be effective in tattoo removal and in the treatment of acne scars.',\n",
              "  {'entities': [(167, 178, 'Skin disease')]})]"
            ]
          },
          "execution_count": 14,
          "metadata": {},
          "output_type": "execute_result"
        }
      ],
      "source": [
        "dataset[-100:]"
      ]
    },
    {
      "cell_type": "code",
      "execution_count": null,
      "metadata": {
        "colab": {
          "base_uri": "https://localhost:8080/"
        },
        "id": "kSj6W63Dz9zH",
        "outputId": "1ca4d7a2-8df5-4eed-a72e-135ba6c36094"
      },
      "outputs": [
        {
          "data": {
            "text/plain": [
              "436039"
            ]
          },
          "execution_count": 20,
          "metadata": {},
          "output_type": "execute_result"
        }
      ],
      "source": [
        "len(dataset)"
      ]
    },
    {
      "cell_type": "code",
      "execution_count": 111,
      "metadata": {
        "id": "ydCUG08lQsM_"
      },
      "outputs": [],
      "source": [
        "file_path = \"/output.txt\"\n",
        "\n",
        "dataset = []\n",
        "\n",
        "\n",
        "with open(file_path, \"r\") as file:\n",
        "    for line in file:\n",
        "        line_data = eval(line.strip())\n",
        "        dataset.append(line_data)\n"
      ]
    },
    {
      "cell_type": "code",
      "execution_count": 112,
      "metadata": {
        "colab": {
          "base_uri": "https://localhost:8080/"
        },
        "id": "eXuGPuuK8uhq",
        "outputId": "4f9f65df-04a4-40ff-b87e-4a26ed2dd73e"
      },
      "outputs": [
        {
          "data": {
            "text/plain": [
              "436039"
            ]
          },
          "execution_count": 112,
          "metadata": {},
          "output_type": "execute_result"
        }
      ],
      "source": [
        "len(dataset)"
      ]
    },
    {
      "cell_type": "code",
      "execution_count": 113,
      "metadata": {
        "id": "8eyOJ5ZqRJJ1"
      },
      "outputs": [],
      "source": [
        "def remove_overlapping_entities(entities):\n",
        "    entities.sort(key=lambda x: x[0])  # Sort entities by start index\n",
        "    non_overlapping_entities = []\n",
        "\n",
        "    for i, (start, end, label) in enumerate(entities):\n",
        "        if i == 0:\n",
        "            non_overlapping_entities.append((start, end, label))\n",
        "        else:\n",
        "            prev_start, prev_end, _ = non_overlapping_entities[-1]\n",
        "            # Check for overlap\n",
        "            if start >= prev_end:\n",
        "                non_overlapping_entities.append((start, end, label))\n",
        "            else:\n",
        "                # If overlap, remove the shorter span\n",
        "                if end - start > prev_end - prev_start:\n",
        "                    non_overlapping_entities[-1] = (start, end, label)\n",
        "\n",
        "    return non_overlapping_entities"
      ]
    },
    {
      "cell_type": "code",
      "execution_count": 114,
      "metadata": {
        "id": "uprx1DP93vYj"
      },
      "outputs": [],
      "source": [
        "def combine_entities_of_duplicates(dataset):\n",
        "\n",
        "    combined_data = {}\n",
        "    combined_sentences = []\n",
        "\n",
        "\n",
        "    for sentence, entities in dataset:\n",
        "\n",
        "        if sentence in combined_data:\n",
        "\n",
        "            current_entity = entities['entities'][0]\n",
        "            existing_entites = combined_data[sentence]\n",
        "\n",
        "            if current_entity not in existing_entites:\n",
        "              combined_data[sentence].append(entities['entities'][0])\n",
        "\n",
        "        else:\n",
        "            combined_data[sentence] = entities['entities']\n",
        "\n",
        "\n",
        "    for sentence, entities in combined_data.items():\n",
        "      current_entities ={\n",
        "          \"entities\":remove_overlapping_entities(entities)\n",
        "      }\n",
        "\n",
        "      combined_sentences.append((sentence, current_entities))\n",
        "\n",
        "    return combined_sentences\n",
        "\n",
        "# Combine entities of duplicate sentences\n",
        "op_data = combine_entities_of_duplicates(dataset)\n"
      ]
    },
    {
      "cell_type": "code",
      "execution_count": 115,
      "metadata": {
        "colab": {
          "base_uri": "https://localhost:8080/"
        },
        "id": "rLfqlwNz39rr",
        "outputId": "f0b4089f-c4b0-4e04-e14a-0c59feb37d99"
      },
      "outputs": [
        {
          "name": "stdout",
          "output_type": "stream",
          "text": [
            "418338\n"
          ]
        }
      ],
      "source": [
        "print(len(op_data))"
      ]
    },
    {
      "cell_type": "code",
      "execution_count": 118,
      "metadata": {
        "id": "Bokc0F6r0gWd"
      },
      "outputs": [],
      "source": [
        "with open('output-combined3.txt', 'w') as file:\n",
        "    # Write each tuple to the file\n",
        "    for item in op_data:\n",
        "        # Convert the tuple to a string and write to file\n",
        "        file.write(\"%s\\n\" % str(item))"
      ]
    },
    {
      "cell_type": "code",
      "execution_count": 119,
      "metadata": {
        "id": "bFETEmFc1Ltm"
      },
      "outputs": [],
      "source": [
        "file_path = \"/content/output-combined3.txt\"\n",
        "\n",
        "dataset2 = []\n",
        "\n",
        "# Read the content from the file and convert each line into a tuple\n",
        "with open(file_path, \"r\") as file:\n",
        "    for line in file:\n",
        "        # Remove leading/trailing whitespace and evaluate the line as a tuple\n",
        "        line_data = eval(line.strip())\n",
        "        dataset2.append(line_data)"
      ]
    },
    {
      "cell_type": "code",
      "execution_count": 69,
      "metadata": {
        "colab": {
          "base_uri": "https://localhost:8080/"
        },
        "id": "fBvKhM4J1VG5",
        "outputId": "694a1095-b882-455e-e8dc-d377a8c5b52f"
      },
      "outputs": [
        {
          "data": {
            "text/plain": [
              "418338"
            ]
          },
          "execution_count": 69,
          "metadata": {},
          "output_type": "execute_result"
        }
      ],
      "source": [
        "len(dataset2)"
      ]
    },
    {
      "cell_type": "markdown",
      "metadata": {
        "id": "ufEDLXvJZyjC"
      },
      "source": [
        "We have downloaded and saved the extracted data to output-combined.txt"
      ]
    },
    {
      "cell_type": "markdown",
      "metadata": {
        "id": "UCoDI8yfYkGS"
      },
      "source": [
        "Now getting data for evaluation"
      ]
    },
    {
      "cell_type": "code",
      "execution_count": 1,
      "metadata": {
        "colab": {
          "base_uri": "https://localhost:8080/"
        },
        "id": "UHY9r5P8YmIu",
        "outputId": "813b8890-1083-4761-8fe7-2c91dd058575"
      },
      "outputs": [
        {
          "name": "stdout",
          "output_type": "stream",
          "text": [
            "Requirement already satisfied: datasets in /usr/local/lib/python3.10/dist-packages (2.19.0)\n",
            "Requirement already satisfied: filelock in /usr/local/lib/python3.10/dist-packages (from datasets) (3.14.0)\n",
            "Requirement already satisfied: numpy>=1.17 in /usr/local/lib/python3.10/dist-packages (from datasets) (1.25.2)\n",
            "Requirement already satisfied: pyarrow>=12.0.0 in /usr/local/lib/python3.10/dist-packages (from datasets) (14.0.2)\n",
            "Requirement already satisfied: pyarrow-hotfix in /usr/local/lib/python3.10/dist-packages (from datasets) (0.6)\n",
            "Requirement already satisfied: dill<0.3.9,>=0.3.0 in /usr/local/lib/python3.10/dist-packages (from datasets) (0.3.8)\n",
            "Requirement already satisfied: pandas in /usr/local/lib/python3.10/dist-packages (from datasets) (2.0.3)\n",
            "Requirement already satisfied: requests>=2.19.0 in /usr/local/lib/python3.10/dist-packages (from datasets) (2.31.0)\n",
            "Requirement already satisfied: tqdm>=4.62.1 in /usr/local/lib/python3.10/dist-packages (from datasets) (4.66.2)\n",
            "Requirement already satisfied: xxhash in /usr/local/lib/python3.10/dist-packages (from datasets) (3.4.1)\n",
            "Requirement already satisfied: multiprocess in /usr/local/lib/python3.10/dist-packages (from datasets) (0.70.16)\n",
            "Requirement already satisfied: fsspec[http]<=2024.3.1,>=2023.1.0 in /usr/local/lib/python3.10/dist-packages (from datasets) (2023.6.0)\n",
            "Requirement already satisfied: aiohttp in /usr/local/lib/python3.10/dist-packages (from datasets) (3.9.5)\n",
            "Requirement already satisfied: huggingface-hub>=0.21.2 in /usr/local/lib/python3.10/dist-packages (from datasets) (0.23.0)\n",
            "Requirement already satisfied: packaging in /usr/local/lib/python3.10/dist-packages (from datasets) (24.0)\n",
            "Requirement already satisfied: pyyaml>=5.1 in /usr/local/lib/python3.10/dist-packages (from datasets) (6.0.1)\n",
            "Requirement already satisfied: aiosignal>=1.1.2 in /usr/local/lib/python3.10/dist-packages (from aiohttp->datasets) (1.3.1)\n",
            "Requirement already satisfied: attrs>=17.3.0 in /usr/local/lib/python3.10/dist-packages (from aiohttp->datasets) (23.2.0)\n",
            "Requirement already satisfied: frozenlist>=1.1.1 in /usr/local/lib/python3.10/dist-packages (from aiohttp->datasets) (1.4.1)\n",
            "Requirement already satisfied: multidict<7.0,>=4.5 in /usr/local/lib/python3.10/dist-packages (from aiohttp->datasets) (6.0.5)\n",
            "Requirement already satisfied: yarl<2.0,>=1.0 in /usr/local/lib/python3.10/dist-packages (from aiohttp->datasets) (1.9.4)\n",
            "Requirement already satisfied: async-timeout<5.0,>=4.0 in /usr/local/lib/python3.10/dist-packages (from aiohttp->datasets) (4.0.3)\n",
            "Requirement already satisfied: typing-extensions>=3.7.4.3 in /usr/local/lib/python3.10/dist-packages (from huggingface-hub>=0.21.2->datasets) (4.11.0)\n",
            "Requirement already satisfied: charset-normalizer<4,>=2 in /usr/local/lib/python3.10/dist-packages (from requests>=2.19.0->datasets) (3.3.2)\n",
            "Requirement already satisfied: idna<4,>=2.5 in /usr/local/lib/python3.10/dist-packages (from requests>=2.19.0->datasets) (3.7)\n",
            "Requirement already satisfied: urllib3<3,>=1.21.1 in /usr/local/lib/python3.10/dist-packages (from requests>=2.19.0->datasets) (2.0.7)\n",
            "Requirement already satisfied: certifi>=2017.4.17 in /usr/local/lib/python3.10/dist-packages (from requests>=2.19.0->datasets) (2024.2.2)\n",
            "Requirement already satisfied: python-dateutil>=2.8.2 in /usr/local/lib/python3.10/dist-packages (from pandas->datasets) (2.8.2)\n",
            "Requirement already satisfied: pytz>=2020.1 in /usr/local/lib/python3.10/dist-packages (from pandas->datasets) (2023.4)\n",
            "Requirement already satisfied: tzdata>=2022.1 in /usr/local/lib/python3.10/dist-packages (from pandas->datasets) (2024.1)\n",
            "Requirement already satisfied: six>=1.5 in /usr/local/lib/python3.10/dist-packages (from python-dateutil>=2.8.2->pandas->datasets) (1.16.0)\n"
          ]
        }
      ],
      "source": [
        "!pip install datasets"
      ]
    },
    {
      "cell_type": "code",
      "execution_count": 2,
      "metadata": {
        "id": "3Ydzfa44aFQ0"
      },
      "outputs": [],
      "source": [
        "from datasets import Dataset\n",
        "import re\n",
        "from datasets import load_dataset\n",
        "import numpy as np\n",
        "import datasets\n",
        "import torch"
      ]
    },
    {
      "cell_type": "code",
      "execution_count": 3,
      "metadata": {
        "colab": {
          "base_uri": "https://localhost:8080/"
        },
        "id": "eIEYgpfvaJbh",
        "outputId": "dfcf9f4d-c4f2-4821-fd5d-eb169099ddb6"
      },
      "outputs": [
        {
          "name": "stderr",
          "output_type": "stream",
          "text": [
            "/usr/local/lib/python3.10/dist-packages/huggingface_hub/utils/_token.py:89: UserWarning: \n",
            "The secret `HF_TOKEN` does not exist in your Colab secrets.\n",
            "To authenticate with the Hugging Face Hub, create a token in your settings tab (https://huggingface.co/settings/tokens), set it as secret in your Google Colab and restart your session.\n",
            "You will be able to reuse this secret in all of your notebooks.\n",
            "Please note that authentication is recommended but still optional to access public models or datasets.\n",
            "  warnings.warn(\n"
          ]
        }
      ],
      "source": [
        "bc5cdr = load_dataset(\"tner/bc5cdr\")\n",
        "jnlpba = load_dataset(\"jnlpba\")\n",
        "ncbi_dataset = load_dataset(\"ncbi_disease\")"
      ]
    },
    {
      "cell_type": "code",
      "execution_count": 1,
      "metadata": {
        "id": "nMH-HlmHaURK"
      },
      "outputs": [],
      "source": [
        "content_list =  ['Acanthosis nigricans', 'Acne keloidalis nuchae','Acne scars','Actinic keratosis','Alopecia areata', \"Athlete's foot\", 'Atopic dermatitis', 'Basal cell carcinoma', 'Bedbugs', 'Birthmarks', 'Boils and styes', 'Botulinum toxin', 'Bullous pemphigoid', 'Cellulitis', 'Central centrifugal cicatricial alopecia', 'CCCA', 'Chemical peels', 'Chickenpox', 'Cold sores', 'Contact dermatitis', 'Cradle cap', 'Cutaneous T-cell lymphoma', 'Dandruff', 'Dermatofibrosarcoma protuberan', 'DFSP', 'Diaper rash', 'Dry skin', 'Dyshidrotic eczema', 'Eczema', 'Epidermolysis bullosa', 'Female pattern hair loss', 'Folliculitis', 'Frontal fibrosing alopecia', 'Genital herpes', 'Genital warts', 'Granuloma annulare', 'Hair loss', 'Hand-foot-and-mouth disease', 'Head lice', 'Herpes simplex', 'Hidradenitis suppurativa', 'Hives', 'Hyperhidrosis', 'Ichthyosis vulgaris', 'Imiquimod', 'Impetigo', 'Isotretinoin', 'JAK Inhibitors', 'Keloid scars', 'Keratosis pilaris', 'Lasers', 'Leprosy', 'Lichen planus', 'Lupus', 'Lyme disease', 'Melanoma', 'Melasma', 'Merkel cell carcinoma', 'Moles', 'Molluscum contagiosum', 'Monkeypox rash', 'Nail fungus', 'Neurodermatitis', 'Nickel allergy', 'Nummular dermatitis', 'Pemphigus', 'Perioral dermatitis', 'Pityriasis rosea', 'Prurigo nodularis', 'Psoriasis', 'Psoriatic arthritis', 'Rashes', 'Ringworm', 'Rosacea', 'Sarcoidosis', 'Scabies', 'Scalp psoriasis', 'Scars', 'Scleroderma', 'Sebaceous carcinoma', 'Seborrheic dermatitis', 'Seborrheic keratoses', 'Shingles', 'Skin biopsy', 'Skin cancer', 'Skin tags', 'Squamous cell carcinoma', 'Stasis dermatitis', 'Stretch marks', 'Syphilis', 'Tinea versicolor', 'Vitiligo', 'Warts', 'Xeroderma pigmentosum']\n",
        "content_list = [line.lower().strip() for line in content_list]\n",
        "skin_terms = set(content_list)"
      ]
    },
    {
      "cell_type": "code",
      "execution_count": 2,
      "metadata": {
        "colab": {
          "base_uri": "https://localhost:8080/"
        },
        "id": "XLkpI9y9M_As",
        "outputId": "0cb52773-a48d-447a-d19f-21db88f498a7"
      },
      "outputs": [
        {
          "data": {
            "text/plain": [
              "94"
            ]
          },
          "execution_count": 2,
          "metadata": {},
          "output_type": "execute_result"
        }
      ],
      "source": [
        "len(content_list)"
      ]
    },
    {
      "cell_type": "code",
      "execution_count": 5,
      "metadata": {
        "id": "STIgGCH0aWmY"
      },
      "outputs": [],
      "source": [
        "def filter_samples(dataset, word_list):\n",
        "    filtered_examples = []\n",
        "    for item in dataset:\n",
        "        for word in word_list:\n",
        "            if word.lower() in item[\"tokens\"]:  # Assuming \"tokens\" is the key containing the text in the dataset\n",
        "                filtered_examples.append(item)\n",
        "                break  # Break out of the inner loop if the word is found\n",
        "    return filtered_examples"
      ]
    },
    {
      "cell_type": "code",
      "execution_count": 6,
      "metadata": {
        "id": "CLSDLXvWbC8Y"
      },
      "outputs": [],
      "source": [
        "combined_samples = []\n",
        "combined_samples.extend(bc5cdr[\"train\"])\n",
        "combined_samples.extend(bc5cdr[\"test\"])\n",
        "combined_samples.extend(bc5cdr[\"validation\"])\n",
        "combined_samples.extend(jnlpba[\"train\"])\n",
        "#\n",
        "combined_samples.extend(jnlpba[\"validation\"])\n",
        "combined_samples.extend(ncbi_dataset[\"train\"])\n",
        "combined_samples.extend(ncbi_dataset[\"test\"])\n",
        "combined_samples.extend(ncbi_dataset[\"validation\"])\n"
      ]
    },
    {
      "cell_type": "code",
      "execution_count": 7,
      "metadata": {
        "colab": {
          "base_uri": "https://localhost:8080/"
        },
        "id": "C4jss4vhadbg",
        "outputId": "50129bbf-b238-4b89-9c88-798d1e867ff2"
      },
      "outputs": [
        {
          "name": "stdout",
          "output_type": "stream",
          "text": [
            "122\n"
          ]
        }
      ],
      "source": [
        "filtered = filter_samples(combined_samples, content_list)\n",
        "print(len(filtered))\n"
      ]
    },
    {
      "cell_type": "code",
      "execution_count": 8,
      "metadata": {
        "id": "I62kGhB5cpME"
      },
      "outputs": [],
      "source": [
        "import spacy"
      ]
    },
    {
      "cell_type": "code",
      "execution_count": 9,
      "metadata": {
        "id": "GkHa5Z37dd74"
      },
      "outputs": [],
      "source": [
        "def convert_to_spacy_format(dataset,content_list):\n",
        "    nlp = spacy.blank(\"en\")\n",
        "    spacy_data = []\n",
        "\n",
        "    for sample in dataset:\n",
        "        text = \" \".join(sample['tokens'])\n",
        "        entities = []\n",
        "        char_index = 0\n",
        "        start_char = None\n",
        "        end_char = None\n",
        "\n",
        "        for word in content_list:\n",
        "          if word in text:\n",
        "            start_pos = text.find(word)\n",
        "            end_pos = start_pos + len(word)\n",
        "            entities.append((start_pos, end_pos, \"Skin disease\"))\n",
        "        if len(entities)>1: print(text, entities)\n",
        "        spacy_data.append((text, {\"entities\": entities}))\n",
        "\n",
        "    return spacy_data\n"
      ]
    },
    {
      "cell_type": "code",
      "execution_count": 10,
      "metadata": {
        "colab": {
          "base_uri": "https://localhost:8080/"
        },
        "id": "ya3L6K1WdqSs",
        "outputId": "64f00e38-b9e5-4864-f309-b24dc25dc885"
      },
      "outputs": [
        {
          "name": "stdout",
          "output_type": "stream",
          "text": [
            "BACKGROUND : Tacrolimus ointment is increasingly used for anti - inflammatory treatment of sensitive areas such as the face , and recent observations indicate that the treatment is effective in steroid - aggravated rosacea and perioral dermatitis . [(227, 246, 'Skin disease'), (215, 222, 'Skin disease')]\n",
            "In 1 patient with atopic dermatitis , telangiectatic and papular rosacea insidiously appeared after 5 months of treatment . [(18, 35, 'Skin disease'), (65, 72, 'Skin disease')]\n",
            "Skin rashes , proteinuria , systemic lupus erythematosus , polymyositis and myasthenia gravis have all been recorded as complications of penicillamine therapy in patients with rheumatoid arthritis . [(37, 42, 'Skin disease'), (5, 11, 'Skin disease')]\n"
          ]
        }
      ],
      "source": [
        "spacy = convert_to_spacy_format(filtered,content_list)"
      ]
    },
    {
      "cell_type": "code",
      "execution_count": 11,
      "metadata": {
        "colab": {
          "base_uri": "https://localhost:8080/"
        },
        "id": "cggbjSg1fjMD",
        "outputId": "cca0cf62-d867-41fe-c4d1-ffdc1c8f806f"
      },
      "outputs": [
        {
          "data": {
            "text/plain": [
              "[('8 x 10 ( 6 ) moles / glomerulus , p < 0 .',\n",
              "  {'entities': [(13, 18, 'Skin disease')]}),\n",
              " ('Late - onset scleroderma renal crisis induced by tacrolimus and prednisolone : a case report .',\n",
              "  {'entities': [(13, 24, 'Skin disease')]})]"
            ]
          },
          "execution_count": 11,
          "metadata": {},
          "output_type": "execute_result"
        }
      ],
      "source": [
        "spacy[13:15]"
      ]
    },
    {
      "cell_type": "code",
      "execution_count": 12,
      "metadata": {
        "colab": {
          "base_uri": "https://localhost:8080/"
        },
        "id": "cKzVgX12xYjO",
        "outputId": "1182073f-11b9-402b-dc36-168b44fde896"
      },
      "outputs": [
        {
          "data": {
            "text/plain": [
              "122"
            ]
          },
          "execution_count": 12,
          "metadata": {},
          "output_type": "execute_result"
        }
      ],
      "source": [
        "len(spacy)"
      ]
    },
    {
      "cell_type": "code",
      "execution_count": 13,
      "metadata": {
        "id": "5FmlXDXUfR89"
      },
      "outputs": [],
      "source": [
        "with open('eval.txt', 'w') as file:\n",
        "    # Write each tuple to the file\n",
        "    for item in spacy:\n",
        "        # Convert the tuple to a string and write to file\n",
        "        file.write(\"%s\\n\" % str(item))"
      ]
    },
    {
      "cell_type": "code",
      "execution_count": 14,
      "metadata": {
        "colab": {
          "base_uri": "https://localhost:8080/"
        },
        "id": "2uVFRfxXhA0a",
        "outputId": "ebd5c591-6c9b-4a36-bfae-cb0ed50601d7"
      },
      "outputs": [
        {
          "name": "stdout",
          "output_type": "stream",
          "text": [
            "<built-in function eval>\n"
          ]
        }
      ],
      "source": [
        "file_path = \"/content/eval.txt\"\n",
        "\n",
        "evaluation = []\n",
        "print(eval)\n",
        "# Read the content from the file and convert each line into a tuple\n",
        "with open(file_path, \"r\") as file:\n",
        "    for line in file:\n",
        "\n",
        "        # Remove leading/trailing whitespace and evaluate the line as a tuple\n",
        "        line_data = eval(line.strip())\n",
        "        evaluation.append(line_data)"
      ]
    },
    {
      "cell_type": "code",
      "execution_count": 16,
      "metadata": {
        "colab": {
          "base_uri": "https://localhost:8080/"
        },
        "id": "8zzCJV24iAPC",
        "outputId": "06e80a01-5105-4185-e619-8a211576b4d6"
      },
      "outputs": [
        {
          "name": "stdout",
          "output_type": "stream",
          "text": [
            "122\n"
          ]
        }
      ],
      "source": [
        "print(len(evaluation))"
      ]
    },
    {
      "cell_type": "code",
      "execution_count": 19,
      "metadata": {
        "colab": {
          "base_uri": "https://localhost:8080/"
        },
        "id": "FB02M4SQiW0f",
        "outputId": "94c8b567-57ad-4047-a266-89ee18e02bd7"
      },
      "outputs": [
        {
          "data": {
            "text/plain": [
              "[('Veno-occlusive liver disease after dacarbazine therapy ( DTIC ) for melanoma .',\n",
              "  {'entities': [(68, 76, 'Skin disease')]}),\n",
              " ('A case of veno-occlusive disease of the liver with fatal outcome after dacarbazine ( DTIC ) therapy for melanoma is reported .',\n",
              "  {'entities': [(104, 112, 'Skin disease')]}),\n",
              " ('These 13 included cases of malignant hypertension , thrombotic microangiopathy , lupus nephritis , Henoch-Schonlein nephritis , crescentic glomerulonephritis , and cocaine - related acute renal failure .',\n",
              "  {'entities': [(81, 86, 'Skin disease')]}),\n",
              " ('Treatment of psoriasis with azathioprine .',\n",
              "  {'entities': [(13, 22, 'Skin disease')]}),\n",
              " ('Azathioprine treatment benefited 19 ( 66 %) out of 29 patients suffering from severe psoriasis .',\n",
              "  {'entities': [(85, 94, 'Skin disease')]}),\n",
              " ('Is the treatment of scabies hazardous ? Treatment for scabies is usually initiated by general practitioners ; most consider lindane ( gamma benzene hexachloride ) the treatment of choice .',\n",
              "  {'entities': [(20, 27, 'Skin disease')]}),\n",
              " ('Sulfasalazine - induced lupus erythematosus .',\n",
              "  {'entities': [(24, 29, 'Skin disease')]}),\n",
              " ('It is suggested that the patient had sulfasalazine - induced lupus , which manifested with serositis and pulmonary parenchymal involvement in the absence of joint symptoms .',\n",
              "  {'entities': [(61, 66, 'Skin disease')]}),\n",
              " ('Physicians who use sulfasalazine to treat patients with inflammatory bowel disease should be aware of the signs of sulfasalazine - induced lupus syndrome',\n",
              "  {'entities': [(139, 144, 'Skin disease')]})]"
            ]
          },
          "execution_count": 19,
          "metadata": {},
          "output_type": "execute_result"
        }
      ],
      "source": [
        "evaluation[1:10]"
      ]
    },
    {
      "cell_type": "markdown",
      "metadata": {
        "id": "jVFNYqYjZ_TT"
      },
      "source": [
        "On succesfull execution of the notebook it should generate two files output-combined3.txt (which is our main training data) and eval.txt(for evaluation)"
      ]
    }
  ],
  "metadata": {
    "accelerator": "GPU",
    "colab": {
      "gpuType": "T4",
      "provenance": []
    },
    "kaggle": {
      "accelerator": "gpu",
      "dataSources": [
        {
          "datasetId": 4847615,
          "sourceId": 8186659,
          "sourceType": "datasetVersion"
        },
        {
          "datasetId": 4847672,
          "sourceId": 8186761,
          "sourceType": "datasetVersion"
        }
      ],
      "dockerImageVersionId": 30698,
      "isGpuEnabled": true,
      "isInternetEnabled": true,
      "language": "python",
      "sourceType": "notebook"
    },
    "kernelspec": {
      "display_name": "Python 3",
      "name": "python3"
    },
    "language_info": {
      "codemirror_mode": {
        "name": "ipython",
        "version": 3
      },
      "file_extension": ".py",
      "mimetype": "text/x-python",
      "name": "python",
      "nbconvert_exporter": "python",
      "pygments_lexer": "ipython3",
      "version": "3.10.13"
    }
  },
  "nbformat": 4,
  "nbformat_minor": 0
}
